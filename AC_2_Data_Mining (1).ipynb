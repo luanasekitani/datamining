{
  "nbformat": 4,
  "nbformat_minor": 0,
  "metadata": {
    "colab": {
      "provenance": []
    },
    "kernelspec": {
      "name": "python3",
      "display_name": "Python 3"
    },
    "language_info": {
      "name": "python"
    }
  },
  "cells": [
    {
      "cell_type": "markdown",
      "source": [
        "Integrantes: Luana Sekitani, Nathalia Faria e Vivian Fuke"
      ],
      "metadata": {
        "id": "rw2NPjkHVOWk"
      }
    },
    {
      "cell_type": "code",
      "execution_count": null,
      "metadata": {
        "id": "DxRrPixzTbRS"
      },
      "outputs": [],
      "source": [
        "import pandas as pd"
      ]
    },
    {
      "cell_type": "code",
      "source": [
        "notas = pd.read_csv('https://github.com/danieltb3006/DM_Ibmec/raw/main/notas_alunos_Ibmec.csv',encoding='ISO-8859-1',sep=';',decimal='.')"
      ],
      "metadata": {
        "id": "r67O-6F8TkUN"
      },
      "execution_count": null,
      "outputs": []
    },
    {
      "cell_type": "code",
      "source": [
        "print(notas)"
      ],
      "metadata": {
        "colab": {
          "base_uri": "https://localhost:8080/"
        },
        "id": "QQf3JQDBU6Z7",
        "outputId": "5cf94ebc-909b-4a38-f5bf-2382d4f94053"
      },
      "execution_count": null,
      "outputs": [
        {
          "output_type": "stream",
          "name": "stdout",
          "text": [
            "   Curso          Alunos   AP1  AP2   Ap3\n",
            "0    Adm            Joao   4.5  5.0   6.0\n",
            "1    Dir           Pedro   7.9  9.0   7.0\n",
            "2    Eco       Ana Maria   2.0  3.0   5.0\n",
            "3     RI           Paulo  10.0  8.8   9.0\n",
            "4    Adm           Maria   3.0  7.0   9.0\n",
            "5    Adm        Priscila   8.0  6.5   4.0\n",
            "6    Adm          Manoel   5.0  8.0   9.5\n",
            "7    Dir      João Paulo   1.0  3.0   5.0\n",
            "8    Eco       Ana Paula   4.5  3.0   7.5\n",
            "9     RI           Joana   7.0  8.0   8.0\n",
            "10   Eco          Raquel   2.9  7.0   NaN\n",
            "11   Eco         Gabriel  10.0  6.0   9.0\n",
            "12    RI          Rafael   3.0  9.0   4.0\n",
            "13   Adm           Karen   8.0  7.0   6.0\n",
            "14   Adm        Leonardo   1.0  8.0  10.0\n",
            "15   Adm           Sofia   2.0  6.0   9.0\n",
            "16   Dir            Davi   5.8  9.0   5.0\n",
            "17   Eco            Luiz  10.0  9.5   8.0\n",
            "18    RI           Paulo   7.0  8.0   6.0\n",
            "19    RI          Celina   2.0  7.0   9.0\n",
            "20   Eco         Antonio   3.5  9.0   3.5\n",
            "21    RI        Roberson   4.0  6.0   6.0\n",
            "22   Adm         Emerson   6.0  9.0   4.0\n",
            "23   Adm         Patrick   9.0  7.0   6.0\n",
            "24   Adm          Bianca   8.0  NaN  10.0\n",
            "25   Dir        Jonathas   7.0  7.5   9.0\n",
            "26   Eco  Lucas Henrique   2.6  6.0  10.0\n",
            "27    RI      Luiz Pedro   7.5  4.5   9.5\n",
            "28    RI         Joaquim   2.5  3.0   7.0\n",
            "29   Adm      Joao Paulo   5.0  8.0   6.0\n",
            "30   Dir    Pedro Manuel   8.5  8.0   7.0\n",
            "31   Eco       Ana Luiza   3.5  4.5   8.0\n",
            "32    RI          Felipe  10.0  6.0   9.0\n",
            "33   Eco      Maria José   6.9  8.8   9.2\n",
            "34   Eco       Priscilla   8.8  6.0   4.0\n",
            "35    RI          Marcos   5.5  5.0   9.5\n",
            "36   Adm      João Pedro   5.9  4.0   5.3\n",
            "37   Adm           Bruna   2.6  3.0   7.5\n",
            "38   Adm          Renato   9.0  9.0   8.4\n",
            "39   Dir           Raisa   4.0  7.0   9.8\n",
            "40   Eco        Gabriela   9.0  4.0   9.0\n"
          ]
        }
      ]
    },
    {
      "cell_type": "code",
      "source": [
        "notas = notas.fillna(value=0.00)"
      ],
      "metadata": {
        "id": "WIYiCnRQXCsq"
      },
      "execution_count": null,
      "outputs": []
    },
    {
      "cell_type": "code",
      "source": [
        "notas['Médias'] = notas['AP1']*0.4 + notas['AP2']*0.4 + notas['Ap3']*0.2"
      ],
      "metadata": {
        "id": "twEjYLR7hvtT"
      },
      "execution_count": null,
      "outputs": []
    },
    {
      "cell_type": "code",
      "source": [
        "for i in range (len(notas)):\n",
        "  if (notas.loc[i,'Médias']<=3):\n",
        "    notas.loc[i,'Situação']=\"REPROVADO\"\n",
        "  elif (notas.loc[i,'Médias']>=7):\n",
        "    notas.loc[i,'Situação']=\"APROVADO\"\n",
        "  else:\n",
        "    notas.loc[i,'Situação']=\"SUBSTITUTIVA\""
      ],
      "metadata": {
        "id": "Z5JDaCoSoHFP"
      },
      "execution_count": null,
      "outputs": []
    },
    {
      "cell_type": "code",
      "source": [
        "for i in range (len(notas)):\n",
        "  if (notas.loc[i,'Curso']=='Adm'):\n",
        "    notas.loc[i,'Curso']=\"Administração\"\n",
        "  elif (notas.loc[i,'Curso']=='Dir'):\n",
        "    notas.loc[i,'Curso']=\"Direito\"\n",
        "  elif (notas.loc[i,'Curso']=='RI'):\n",
        "    notas.loc[i,'Curso']=\"Relações Internacionais\"\n",
        "  elif (notas.loc[i,'Curso']=='Eco'):\n",
        "    notas.loc[i,'Curso']=\"Economia\""
      ],
      "metadata": {
        "id": "uvi3js0HXRWP"
      },
      "execution_count": null,
      "outputs": []
    },
    {
      "cell_type": "code",
      "source": [
        "notas.groupby(by='Curso').mean()['Médias']"
      ],
      "metadata": {
        "colab": {
          "base_uri": "https://localhost:8080/"
        },
        "id": "99U5DOLYivBu",
        "outputId": "ef226c1b-e43d-4ad5-a28a-3b1700c9ff24"
      },
      "execution_count": null,
      "outputs": [
        {
          "output_type": "execute_result",
          "data": {
            "text/plain": [
              "Curso\n",
              "Administração              6.138571\n",
              "Direito                    6.606667\n",
              "Economia                   6.076364\n",
              "Relações Internacionais    6.492000\n",
              "Name: Médias, dtype: float64"
            ]
          },
          "metadata": {},
          "execution_count": 152
        }
      ]
    },
    {
      "cell_type": "code",
      "source": [
        "notas.groupby(by='Curso').min()['Médias']"
      ],
      "metadata": {
        "colab": {
          "base_uri": "https://localhost:8080/"
        },
        "id": "7iGSppQqlEug",
        "outputId": "3917e0fe-6b76-4213-c925-effd247f56d3"
      },
      "execution_count": null,
      "outputs": [
        {
          "output_type": "execute_result",
          "data": {
            "text/plain": [
              "Curso\n",
              "Administração              3.74\n",
              "Direito                    2.60\n",
              "Economia                   3.00\n",
              "Relações Internacionais    3.60\n",
              "Name: Médias, dtype: float64"
            ]
          },
          "metadata": {},
          "execution_count": 153
        }
      ]
    },
    {
      "cell_type": "code",
      "source": [
        "notas.groupby(by='Curso').max()['Médias']"
      ],
      "metadata": {
        "colab": {
          "base_uri": "https://localhost:8080/"
        },
        "id": "o9QBjfTvlQsn",
        "outputId": "6c250678-42b1-4f79-8fc2-e6cf050a0c4b"
      },
      "execution_count": null,
      "outputs": [
        {
          "output_type": "execute_result",
          "data": {
            "text/plain": [
              "Curso\n",
              "Administração              8.88\n",
              "Direito                    8.16\n",
              "Economia                   9.40\n",
              "Relações Internacionais    9.32\n",
              "Name: Médias, dtype: float64"
            ]
          },
          "metadata": {},
          "execution_count": 154
        }
      ]
    },
    {
      "cell_type": "code",
      "source": [
        "freq_notas = notas['Médias'].value_counts()"
      ],
      "metadata": {
        "id": "VJHjUqE6lf6L"
      },
      "execution_count": null,
      "outputs": []
    },
    {
      "cell_type": "code",
      "source": [
        "tabela_notas = notas.query('Médias>7')\n",
        "print(tabela_notas)"
      ],
      "metadata": {
        "colab": {
          "base_uri": "https://localhost:8080/"
        },
        "id": "5X86pfvGmZX9",
        "outputId": "86e9b369-144f-4e0a-ee27-490fb5ac8ffb"
      },
      "execution_count": null,
      "outputs": [
        {
          "output_type": "stream",
          "name": "stdout",
          "text": [
            "                      Curso        Alunos   AP1  AP2  Ap3  Médias  Situação\n",
            "1                   Direito         Pedro   7.9  9.0  7.0    8.16  APROVADO\n",
            "3   Relações Internacionais         Paulo  10.0  8.8  9.0    9.32  APROVADO\n",
            "6             Administração        Manoel   5.0  8.0  9.5    7.10  APROVADO\n",
            "9   Relações Internacionais         Joana   7.0  8.0  8.0    7.60  APROVADO\n",
            "11                 Economia       Gabriel  10.0  6.0  9.0    8.20  APROVADO\n",
            "13            Administração         Karen   8.0  7.0  6.0    7.20  APROVADO\n",
            "17                 Economia          Luiz  10.0  9.5  8.0    9.40  APROVADO\n",
            "18  Relações Internacionais         Paulo   7.0  8.0  6.0    7.20  APROVADO\n",
            "23            Administração       Patrick   9.0  7.0  6.0    7.60  APROVADO\n",
            "25                  Direito      Jonathas   7.0  7.5  9.0    7.60  APROVADO\n",
            "30                  Direito  Pedro Manuel   8.5  8.0  7.0    8.00  APROVADO\n",
            "32  Relações Internacionais        Felipe  10.0  6.0  9.0    8.20  APROVADO\n",
            "33                 Economia    Maria José   6.9  8.8  9.2    8.12  APROVADO\n",
            "38            Administração        Renato   9.0  9.0  8.4    8.88  APROVADO\n"
          ]
        }
      ]
    },
    {
      "cell_type": "code",
      "source": [
        "media_notas = notas.pivot_table(values=['Ap3'],index=['Situação'],aggfunc='mean') #aggfunc='mean' min max count\n",
        "print(media_notas)"
      ],
      "metadata": {
        "colab": {
          "base_uri": "https://localhost:8080/"
        },
        "id": "nIv3TWTenBdp",
        "outputId": "76d133d2-bac0-4514-b28f-8e83d61b1a06"
      },
      "execution_count": null,
      "outputs": [
        {
          "output_type": "stream",
          "name": "stdout",
          "text": [
            "                   Ap3\n",
            "Situação              \n",
            "APROVADO      8.006667\n",
            "REPROVADO     5.000000\n",
            "SUBSTITUTIVA  6.816667\n"
          ]
        }
      ]
    },
    {
      "cell_type": "code",
      "source": [
        "situacao_curso = pd.crosstab(notas.Situação,notas.Curso, margins=False)\n",
        "print(situacao_curso)"
      ],
      "metadata": {
        "colab": {
          "base_uri": "https://localhost:8080/"
        },
        "id": "H2BnurGbypQL",
        "outputId": "ae95a5e8-7579-4406-d774-061608631eab"
      },
      "execution_count": null,
      "outputs": [
        {
          "output_type": "stream",
          "name": "stdout",
          "text": [
            "Curso         Administração  Direito  Economia  Relações Internacionais\n",
            "Situação                                                               \n",
            "APROVADO                  4        3         4                        4\n",
            "REPROVADO                 0        1         1                        0\n",
            "SUBSTITUTIVA             10        2         6                        6\n"
          ]
        }
      ]
    },
    {
      "cell_type": "code",
      "source": [
        "# Gráfico de barras geral das médias x cursos\n",
        "\n",
        "situacao_curso.plot.bar()"
      ],
      "metadata": {
        "colab": {
          "base_uri": "https://localhost:8080/",
          "height": 551
        },
        "id": "fEzIdy-Ez5HN",
        "outputId": "74691fdf-9958-4192-913f-a897af4bff9e"
      },
      "execution_count": null,
      "outputs": [
        {
          "output_type": "execute_result",
          "data": {
            "text/plain": [
              "<Axes: xlabel='Situação'>"
            ]
          },
          "metadata": {},
          "execution_count": 159
        },
        {
          "output_type": "display_data",
          "data": {
            "text/plain": [
              "<Figure size 640x480 with 1 Axes>"
            ],
            "image/png": "[encoded data removed]"
          },
          "metadata": {}
        }
      ]
    },
    {
      "cell_type": "code",
      "source": [
        "# Histograma das médias\n",
        "notas['Médias'].plot.hist()"
      ],
      "metadata": {
        "colab": {
          "base_uri": "https://localhost:8080/",
          "height": 447
        },
        "id": "cRA7okob08Sv",
        "outputId": "8e4553cb-7780-4cd0-fa38-f9518c9e0a43"
      },
      "execution_count": null,
      "outputs": [
        {
          "output_type": "execute_result",
          "data": {
            "text/plain": [
              "<Axes: ylabel='Frequency'>"
            ]
          },
          "metadata": {},
          "execution_count": 160
        },
        {
          "output_type": "display_data",
          "data": {
            "text/plain": [
              "<Figure size 640x480 with 1 Axes>"
            ],
            "image/png": "[encoded data removed]"
          },
          "metadata": {}
        }
      ]
    },
    {
      "cell_type": "code",
      "source": [
        "# Tabela de frequências - Situação\n",
        "freq_situação = notas['Situação'].value_counts()"
      ],
      "metadata": {
        "id": "7r32911b3mmH"
      },
      "execution_count": null,
      "outputs": []
    },
    {
      "cell_type": "code",
      "source": [
        "# Gráfico de Pizza\n",
        "freq_situação.plot.pie(title=\"Situação dos Alunos\",legend=True,autopct='%.0f%%',figsize=(7, 7))"
      ],
      "metadata": {
        "colab": {
          "base_uri": "https://localhost:8080/",
          "height": 615
        },
        "id": "mm_olnk238I4",
        "outputId": "d8208188-9c1f-439e-b2b3-f7b8e6a3ba91"
      },
      "execution_count": null,
      "outputs": [
        {
          "output_type": "execute_result",
          "data": {
            "text/plain": [
              "<Axes: title={'center': 'Situação dos Alunos'}, ylabel='Situação'>"
            ]
          },
          "metadata": {},
          "execution_count": 164
        },
        {
          "output_type": "display_data",
          "data": {
            "text/plain": [
              "<Figure size 700x700 with 1 Axes>"
            ],
            "image/png": "[encoded data removed]"
          },
          "metadata": {}
        }
      ]
    },
    {
      "cell_type": "code",
      "source": [
        "notas.plot.box()"
      ],
      "metadata": {
        "colab": {
          "base_uri": "https://localhost:8080/",
          "height": 447
        },
        "id": "Ld7EcCsN4oyS",
        "outputId": "9aa465f2-87b1-460f-9ce0-1a3271d0072f"
      },
      "execution_count": null,
      "outputs": [
        {
          "output_type": "execute_result",
          "data": {
            "text/plain": [
              "<Axes: >"
            ]
          },
          "metadata": {},
          "execution_count": 165
        },
        {
          "output_type": "display_data",
          "data": {
            "text/plain": [
              "<Figure size 640x480 with 1 Axes>"
            ],
            "image/png": "[encoded data removed]"
          },
          "metadata": {}
        }
      ]
    },
    {
      "cell_type": "code",
      "source": [
        "'''Correlação entre as variáveis\n",
        "\n",
        "- 0.9 para mais ou para menos indica uma correlação muito forte. \n",
        "- 0.7 a 0.9 positivo ou negativo indica uma correlação forte. \n",
        "- 0.5 a 0.7 positivo ou negativo indica uma correlação moderada. \n",
        "- 0.3 a 0.5 positivo ou negativo indica uma correlação fraca.\n",
        "\n",
        "'''\n",
        "\n",
        "notas_corr = notas.corr(method ='pearson')\n",
        "notas_corr"
      ],
      "metadata": {
        "colab": {
          "base_uri": "https://localhost:8080/",
          "height": 174
        },
        "id": "gSKvEfsp6s6X",
        "outputId": "129ce1f7-ffc4-4529-d79a-32fa7bb5b529"
      },
      "execution_count": null,
      "outputs": [
        {
          "output_type": "execute_result",
          "data": {
            "text/plain": [
              "             AP1       AP2       Ap3    Médias\n",
              "AP1     1.000000  0.234370  0.138337  0.834205\n",
              "AP2     0.234370  1.000000 -0.124561  0.662685\n",
              "Ap3     0.138337 -0.124561  1.000000  0.302108\n",
              "Médias  0.834205  0.662685  0.302108  1.000000"
            ],
            "text/html": [
              "\n",
              "  <div id=\"df-eedd5ce7-61c8-4cfd-89a2-76148ca7ffb7\">\n",
              "    <div class=\"colab-df-container\">\n",
              "      <div>\n",
              "<style scoped>\n",
              "    .dataframe tbody tr th:only-of-type {\n",
              "        vertical-align: middle;\n",
              "    }\n",
              "\n",
              "    .dataframe tbody tr th {\n",
              "        vertical-align: top;\n",
              "    }\n",
              "\n",
              "    .dataframe thead th {\n",
              "        text-align: right;\n",
              "    }\n",
              "</style>\n",
              "<table border=\"1\" class=\"dataframe\">\n",
              "  <thead>\n",
              "    <tr style=\"text-align: right;\">\n",
              "      <th></th>\n",
              "      <th>AP1</th>\n",
              "      <th>AP2</th>\n",
              "      <th>Ap3</th>\n",
              "      <th>Médias</th>\n",
              "    </tr>\n",
              "  </thead>\n",
              "  <tbody>\n",
              "    <tr>\n",
              "      <th>AP1</th>\n",
              "      <td>1.000000</td>\n",
              "      <td>0.234370</td>\n",
              "      <td>0.138337</td>\n",
              "      <td>0.834205</td>\n",
              "    </tr>\n",
              "    <tr>\n",
              "      <th>AP2</th>\n",
              "      <td>0.234370</td>\n",
              "      <td>1.000000</td>\n",
              "      <td>-0.124561</td>\n",
              "      <td>0.662685</td>\n",
              "    </tr>\n",
              "    <tr>\n",
              "      <th>Ap3</th>\n",
              "      <td>0.138337</td>\n",
              "      <td>-0.124561</td>\n",
              "      <td>1.000000</td>\n",
              "      <td>0.302108</td>\n",
              "    </tr>\n",
              "    <tr>\n",
              "      <th>Médias</th>\n",
              "      <td>0.834205</td>\n",
              "      <td>0.662685</td>\n",
              "      <td>0.302108</td>\n",
              "      <td>1.000000</td>\n",
              "    </tr>\n",
              "  </tbody>\n",
              "</table>\n",
              "</div>\n",
              "      <button class=\"colab-df-convert\" onclick=\"convertToInteractive('df-eedd5ce7-61c8-4cfd-89a2-76148ca7ffb7')\"\n",
              "              title=\"Convert this dataframe to an interactive table.\"\n",
              "              style=\"display:none;\">\n",
              "        \n",
              "  <svg xmlns=\"http://www.w3.org/2000/svg\" height=\"24px\"viewBox=\"0 0 24 24\"\n",
              "       width=\"24px\">\n",
              "    <path d=\"M0 0h24v24H0V0z\" fill=\"none\"/>\n",
              "    <path d=\"M18.56 5.44l.94 2.06.94-2.06 2.06-.94-2.06-.94-.94-2.06-.94 2.06-2.06.94zm-11 1L8.5 8.5l.94-2.06 2.06-.94-2.06-.94L8.5 2.5l-.94 2.06-2.06.94zm10 10l.94 2.06.94-2.06 2.06-.94-2.06-.94-.94-2.06-.94 2.06-2.06.94z\"/><path d=\"M17.41 7.96l-1.37-1.37c-.4-.4-.92-.59-1.43-.59-.52 0-1.04.2-1.43.59L10.3 9.45l-7.72 7.72c-.78.78-.78 2.05 0 2.83L4 21.41c.39.39.9.59 1.41.59.51 0 1.02-.2 1.41-.59l7.78-7.78 2.81-2.81c.8-.78.8-2.07 0-2.86zM5.41 20L4 18.59l7.72-7.72 1.47 1.35L5.41 20z\"/>\n",
              "  </svg>\n",
              "      </button>\n",
              "      \n",
              "  <style>\n",
              "    .colab-df-container {\n",
              "      display:flex;\n",
              "      flex-wrap:wrap;\n",
              "      gap: 12px;\n",
              "    }\n",
              "\n",
              "    .colab-df-convert {\n",
              "      background-color: #E8F0FE;\n",
              "      border: none;\n",
              "      border-radius: 50%;\n",
              "      cursor: pointer;\n",
              "      display: none;\n",
              "      fill: #1967D2;\n",
              "      height: 32px;\n",
              "      padding: 0 0 0 0;\n",
              "      width: 32px;\n",
              "    }\n",
              "\n",
              "    .colab-df-convert:hover {\n",
              "      background-color: #E2EBFA;\n",
              "      box-shadow: 0px 1px 2px rgba(60, 64, 67, 0.3), 0px 1px 3px 1px rgba(60, 64, 67, 0.15);\n",
              "      fill: #174EA6;\n",
              "    }\n",
              "\n",
              "    [theme=dark] .colab-df-convert {\n",
              "      background-color: #3B4455;\n",
              "      fill: #D2E3FC;\n",
              "    }\n",
              "\n",
              "    [theme=dark] .colab-df-convert:hover {\n",
              "      background-color: #434B5C;\n",
              "      box-shadow: 0px 1px 3px 1px rgba(0, 0, 0, 0.15);\n",
              "      filter: drop-shadow(0px 1px 2px rgba(0, 0, 0, 0.3));\n",
              "      fill: #FFFFFF;\n",
              "    }\n",
              "  </style>\n",
              "\n",
              "      <script>\n",
              "        const buttonEl =\n",
              "          document.querySelector('#df-eedd5ce7-61c8-4cfd-89a2-76148ca7ffb7 button.colab-df-convert');\n",
              "        buttonEl.style.display =\n",
              "          google.colab.kernel.accessAllowed ? 'block' : 'none';\n",
              "\n",
              "        async function convertToInteractive(key) {\n",
              "          const element = document.querySelector('#df-eedd5ce7-61c8-4cfd-89a2-76148ca7ffb7');\n",
              "          const dataTable =\n",
              "            await google.colab.kernel.invokeFunction('convertToInteractive',\n",
              "                                                     [key], {});\n",
              "          if (!dataTable) return;\n",
              "\n",
              "          const docLinkHtml = 'Like what you see? Visit the ' +\n",
              "            '<a target=\"_blank\" href=https://colab.research.google.com/notebooks/data_table.ipynb>data table notebook</a>'\n",
              "            + ' to learn more about interactive tables.';\n",
              "          element.innerHTML = '';\n",
              "          dataTable['output_type'] = 'display_data';\n",
              "          await google.colab.output.renderOutput(dataTable, element);\n",
              "          const docLink = document.createElement('div');\n",
              "          docLink.innerHTML = docLinkHtml;\n",
              "          element.appendChild(docLink);\n",
              "        }\n",
              "      </script>\n",
              "    </div>\n",
              "  </div>\n",
              "  "
            ]
          },
          "metadata": {},
          "execution_count": 166
        }
      ]
    },
    {
      "cell_type": "code",
      "source": [
        "notas"
      ],
      "metadata": {
        "colab": {
          "base_uri": "https://localhost:8080/",
          "height": 1000
        },
        "id": "sMT7yjtmf_vr",
        "outputId": "d80540ab-f73b-4163-9560-f16f17be36f8"
      },
      "execution_count": null,
      "outputs": [
        {
          "output_type": "execute_result",
          "data": {
            "text/plain": [
              "                      Curso          Alunos   AP1  AP2   Ap3  Médias  \\\n",
              "0             Administração            Joao   4.5  5.0   6.0    5.00   \n",
              "1                   Direito           Pedro   7.9  9.0   7.0    8.16   \n",
              "2                  Economia       Ana Maria   2.0  3.0   5.0    3.00   \n",
              "3   Relações Internacionais           Paulo  10.0  8.8   9.0    9.32   \n",
              "4             Administração           Maria   3.0  7.0   9.0    5.80   \n",
              "5             Administração        Priscila   8.0  6.5   4.0    6.60   \n",
              "6             Administração          Manoel   5.0  8.0   9.5    7.10   \n",
              "7                   Direito      João Paulo   1.0  3.0   5.0    2.60   \n",
              "8                  Economia       Ana Paula   4.5  3.0   7.5    4.50   \n",
              "9   Relações Internacionais           Joana   7.0  8.0   8.0    7.60   \n",
              "10                 Economia          Raquel   2.9  7.0   0.0    3.96   \n",
              "11                 Economia         Gabriel  10.0  6.0   9.0    8.20   \n",
              "12  Relações Internacionais          Rafael   3.0  9.0   4.0    5.60   \n",
              "13            Administração           Karen   8.0  7.0   6.0    7.20   \n",
              "14            Administração        Leonardo   1.0  8.0  10.0    5.60   \n",
              "15            Administração           Sofia   2.0  6.0   9.0    5.00   \n",
              "16                  Direito            Davi   5.8  9.0   5.0    6.92   \n",
              "17                 Economia            Luiz  10.0  9.5   8.0    9.40   \n",
              "18  Relações Internacionais           Paulo   7.0  8.0   6.0    7.20   \n",
              "19  Relações Internacionais          Celina   2.0  7.0   9.0    5.40   \n",
              "20                 Economia         Antonio   3.5  9.0   3.5    5.70   \n",
              "21  Relações Internacionais        Roberson   4.0  6.0   6.0    5.20   \n",
              "22            Administração         Emerson   6.0  9.0   4.0    6.80   \n",
              "23            Administração         Patrick   9.0  7.0   6.0    7.60   \n",
              "24            Administração          Bianca   8.0  0.0  10.0    5.20   \n",
              "25                  Direito        Jonathas   7.0  7.5   9.0    7.60   \n",
              "26                 Economia  Lucas Henrique   2.6  6.0  10.0    5.44   \n",
              "27  Relações Internacionais      Luiz Pedro   7.5  4.5   9.5    6.70   \n",
              "28  Relações Internacionais         Joaquim   2.5  3.0   7.0    3.60   \n",
              "29            Administração      Joao Paulo   5.0  8.0   6.0    6.40   \n",
              "30                  Direito    Pedro Manuel   8.5  8.0   7.0    8.00   \n",
              "31                 Economia       Ana Luiza   3.5  4.5   8.0    4.80   \n",
              "32  Relações Internacionais          Felipe  10.0  6.0   9.0    8.20   \n",
              "33                 Economia      Maria José   6.9  8.8   9.2    8.12   \n",
              "34                 Economia       Priscilla   8.8  6.0   4.0    6.72   \n",
              "35  Relações Internacionais          Marcos   5.5  5.0   9.5    6.10   \n",
              "36            Administração      João Pedro   5.9  4.0   5.3    5.02   \n",
              "37            Administração           Bruna   2.6  3.0   7.5    3.74   \n",
              "38            Administração          Renato   9.0  9.0   8.4    8.88   \n",
              "39                  Direito           Raisa   4.0  7.0   9.8    6.36   \n",
              "40                 Economia        Gabriela   9.0  4.0   9.0    7.00   \n",
              "\n",
              "        Situação  \n",
              "0   SUBSTITUTIVA  \n",
              "1       APROVADO  \n",
              "2      REPROVADO  \n",
              "3       APROVADO  \n",
              "4   SUBSTITUTIVA  \n",
              "5   SUBSTITUTIVA  \n",
              "6       APROVADO  \n",
              "7      REPROVADO  \n",
              "8   SUBSTITUTIVA  \n",
              "9       APROVADO  \n",
              "10  SUBSTITUTIVA  \n",
              "11      APROVADO  \n",
              "12  SUBSTITUTIVA  \n",
              "13      APROVADO  \n",
              "14  SUBSTITUTIVA  \n",
              "15  SUBSTITUTIVA  \n",
              "16  SUBSTITUTIVA  \n",
              "17      APROVADO  \n",
              "18      APROVADO  \n",
              "19  SUBSTITUTIVA  \n",
              "20  SUBSTITUTIVA  \n",
              "21  SUBSTITUTIVA  \n",
              "22  SUBSTITUTIVA  \n",
              "23      APROVADO  \n",
              "24  SUBSTITUTIVA  \n",
              "25      APROVADO  \n",
              "26  SUBSTITUTIVA  \n",
              "27  SUBSTITUTIVA  \n",
              "28  SUBSTITUTIVA  \n",
              "29  SUBSTITUTIVA  \n",
              "30      APROVADO  \n",
              "31  SUBSTITUTIVA  \n",
              "32      APROVADO  \n",
              "33      APROVADO  \n",
              "34  SUBSTITUTIVA  \n",
              "35  SUBSTITUTIVA  \n",
              "36  SUBSTITUTIVA  \n",
              "37  SUBSTITUTIVA  \n",
              "38      APROVADO  \n",
              "39  SUBSTITUTIVA  \n",
              "40      APROVADO  "
            ],
            "text/html": [
              "\n",
              "  <div id=\"df-4e4465b5-acf1-4dd2-a600-0ffc32a7f22f\">\n",
              "    <div class=\"colab-df-container\">\n",
              "      <div>\n",
              "<style scoped>\n",
              "    .dataframe tbody tr th:only-of-type {\n",
              "        vertical-align: middle;\n",
              "    }\n",
              "\n",
              "    .dataframe tbody tr th {\n",
              "        vertical-align: top;\n",
              "    }\n",
              "\n",
              "    .dataframe thead th {\n",
              "        text-align: right;\n",
              "    }\n",
              "</style>\n",
              "<table border=\"1\" class=\"dataframe\">\n",
              "  <thead>\n",
              "    <tr style=\"text-align: right;\">\n",
              "      <th></th>\n",
              "      <th>Curso</th>\n",
              "      <th>Alunos</th>\n",
              "      <th>AP1</th>\n",
              "      <th>AP2</th>\n",
              "      <th>Ap3</th>\n",
              "      <th>Médias</th>\n",
              "      <th>Situação</th>\n",
              "    </tr>\n",
              "  </thead>\n",
              "  <tbody>\n",
              "    <tr>\n",
              "      <th>0</th>\n",
              "      <td>Administração</td>\n",
              "      <td>Joao</td>\n",
              "      <td>4.5</td>\n",
              "      <td>5.0</td>\n",
              "      <td>6.0</td>\n",
              "      <td>5.00</td>\n",
              "      <td>SUBSTITUTIVA</td>\n",
              "    </tr>\n",
              "    <tr>\n",
              "      <th>1</th>\n",
              "      <td>Direito</td>\n",
              "      <td>Pedro</td>\n",
              "      <td>7.9</td>\n",
              "      <td>9.0</td>\n",
              "      <td>7.0</td>\n",
              "      <td>8.16</td>\n",
              "      <td>APROVADO</td>\n",
              "    </tr>\n",
              "    <tr>\n",
              "      <th>2</th>\n",
              "      <td>Economia</td>\n",
              "      <td>Ana Maria</td>\n",
              "      <td>2.0</td>\n",
              "      <td>3.0</td>\n",
              "      <td>5.0</td>\n",
              "      <td>3.00</td>\n",
              "      <td>REPROVADO</td>\n",
              "    </tr>\n",
              "    <tr>\n",
              "      <th>3</th>\n",
              "      <td>Relações Internacionais</td>\n",
              "      <td>Paulo</td>\n",
              "      <td>10.0</td>\n",
              "      <td>8.8</td>\n",
              "      <td>9.0</td>\n",
              "      <td>9.32</td>\n",
              "      <td>APROVADO</td>\n",
              "    </tr>\n",
              "    <tr>\n",
              "      <th>4</th>\n",
              "      <td>Administração</td>\n",
              "      <td>Maria</td>\n",
              "      <td>3.0</td>\n",
              "      <td>7.0</td>\n",
              "      <td>9.0</td>\n",
              "      <td>5.80</td>\n",
              "      <td>SUBSTITUTIVA</td>\n",
              "    </tr>\n",
              "    <tr>\n",
              "      <th>5</th>\n",
              "      <td>Administração</td>\n",
              "      <td>Priscila</td>\n",
              "      <td>8.0</td>\n",
              "      <td>6.5</td>\n",
              "      <td>4.0</td>\n",
              "      <td>6.60</td>\n",
              "      <td>SUBSTITUTIVA</td>\n",
              "    </tr>\n",
              "    <tr>\n",
              "      <th>6</th>\n",
              "      <td>Administração</td>\n",
              "      <td>Manoel</td>\n",
              "      <td>5.0</td>\n",
              "      <td>8.0</td>\n",
              "      <td>9.5</td>\n",
              "      <td>7.10</td>\n",
              "      <td>APROVADO</td>\n",
              "    </tr>\n",
              "    <tr>\n",
              "      <th>7</th>\n",
              "      <td>Direito</td>\n",
              "      <td>João Paulo</td>\n",
              "      <td>1.0</td>\n",
              "      <td>3.0</td>\n",
              "      <td>5.0</td>\n",
              "      <td>2.60</td>\n",
              "      <td>REPROVADO</td>\n",
              "    </tr>\n",
              "    <tr>\n",
              "      <th>8</th>\n",
              "      <td>Economia</td>\n",
              "      <td>Ana Paula</td>\n",
              "      <td>4.5</td>\n",
              "      <td>3.0</td>\n",
              "      <td>7.5</td>\n",
              "      <td>4.50</td>\n",
              "      <td>SUBSTITUTIVA</td>\n",
              "    </tr>\n",
              "    <tr>\n",
              "      <th>9</th>\n",
              "      <td>Relações Internacionais</td>\n",
              "      <td>Joana</td>\n",
              "      <td>7.0</td>\n",
              "      <td>8.0</td>\n",
              "      <td>8.0</td>\n",
              "      <td>7.60</td>\n",
              "      <td>APROVADO</td>\n",
              "    </tr>\n",
              "    <tr>\n",
              "      <th>10</th>\n",
              "      <td>Economia</td>\n",
              "      <td>Raquel</td>\n",
              "      <td>2.9</td>\n",
              "      <td>7.0</td>\n",
              "      <td>0.0</td>\n",
              "      <td>3.96</td>\n",
              "      <td>SUBSTITUTIVA</td>\n",
              "    </tr>\n",
              "    <tr>\n",
              "      <th>11</th>\n",
              "      <td>Economia</td>\n",
              "      <td>Gabriel</td>\n",
              "      <td>10.0</td>\n",
              "      <td>6.0</td>\n",
              "      <td>9.0</td>\n",
              "      <td>8.20</td>\n",
              "      <td>APROVADO</td>\n",
              "    </tr>\n",
              "    <tr>\n",
              "      <th>12</th>\n",
              "      <td>Relações Internacionais</td>\n",
              "      <td>Rafael</td>\n",
              "      <td>3.0</td>\n",
              "      <td>9.0</td>\n",
              "      <td>4.0</td>\n",
              "      <td>5.60</td>\n",
              "      <td>SUBSTITUTIVA</td>\n",
              "    </tr>\n",
              "    <tr>\n",
              "      <th>13</th>\n",
              "      <td>Administração</td>\n",
              "      <td>Karen</td>\n",
              "      <td>8.0</td>\n",
              "      <td>7.0</td>\n",
              "      <td>6.0</td>\n",
              "      <td>7.20</td>\n",
              "      <td>APROVADO</td>\n",
              "    </tr>\n",
              "    <tr>\n",
              "      <th>14</th>\n",
              "      <td>Administração</td>\n",
              "      <td>Leonardo</td>\n",
              "      <td>1.0</td>\n",
              "      <td>8.0</td>\n",
              "      <td>10.0</td>\n",
              "      <td>5.60</td>\n",
              "      <td>SUBSTITUTIVA</td>\n",
              "    </tr>\n",
              "    <tr>\n",
              "      <th>15</th>\n",
              "      <td>Administração</td>\n",
              "      <td>Sofia</td>\n",
              "      <td>2.0</td>\n",
              "      <td>6.0</td>\n",
              "      <td>9.0</td>\n",
              "      <td>5.00</td>\n",
              "      <td>SUBSTITUTIVA</td>\n",
              "    </tr>\n",
              "    <tr>\n",
              "      <th>16</th>\n",
              "      <td>Direito</td>\n",
              "      <td>Davi</td>\n",
              "      <td>5.8</td>\n",
              "      <td>9.0</td>\n",
              "      <td>5.0</td>\n",
              "      <td>6.92</td>\n",
              "      <td>SUBSTITUTIVA</td>\n",
              "    </tr>\n",
              "    <tr>\n",
              "      <th>17</th>\n",
              "      <td>Economia</td>\n",
              "      <td>Luiz</td>\n",
              "      <td>10.0</td>\n",
              "      <td>9.5</td>\n",
              "      <td>8.0</td>\n",
              "      <td>9.40</td>\n",
              "      <td>APROVADO</td>\n",
              "    </tr>\n",
              "    <tr>\n",
              "      <th>18</th>\n",
              "      <td>Relações Internacionais</td>\n",
              "      <td>Paulo</td>\n",
              "      <td>7.0</td>\n",
              "      <td>8.0</td>\n",
              "      <td>6.0</td>\n",
              "      <td>7.20</td>\n",
              "      <td>APROVADO</td>\n",
              "    </tr>\n",
              "    <tr>\n",
              "      <th>19</th>\n",
              "      <td>Relações Internacionais</td>\n",
              "      <td>Celina</td>\n",
              "      <td>2.0</td>\n",
              "      <td>7.0</td>\n",
              "      <td>9.0</td>\n",
              "      <td>5.40</td>\n",
              "      <td>SUBSTITUTIVA</td>\n",
              "    </tr>\n",
              "    <tr>\n",
              "      <th>20</th>\n",
              "      <td>Economia</td>\n",
              "      <td>Antonio</td>\n",
              "      <td>3.5</td>\n",
              "      <td>9.0</td>\n",
              "      <td>3.5</td>\n",
              "      <td>5.70</td>\n",
              "      <td>SUBSTITUTIVA</td>\n",
              "    </tr>\n",
              "    <tr>\n",
              "      <th>21</th>\n",
              "      <td>Relações Internacionais</td>\n",
              "      <td>Roberson</td>\n",
              "      <td>4.0</td>\n",
              "      <td>6.0</td>\n",
              "      <td>6.0</td>\n",
              "      <td>5.20</td>\n",
              "      <td>SUBSTITUTIVA</td>\n",
              "    </tr>\n",
              "    <tr>\n",
              "      <th>22</th>\n",
              "      <td>Administração</td>\n",
              "      <td>Emerson</td>\n",
              "      <td>6.0</td>\n",
              "      <td>9.0</td>\n",
              "      <td>4.0</td>\n",
              "      <td>6.80</td>\n",
              "      <td>SUBSTITUTIVA</td>\n",
              "    </tr>\n",
              "    <tr>\n",
              "      <th>23</th>\n",
              "      <td>Administração</td>\n",
              "      <td>Patrick</td>\n",
              "      <td>9.0</td>\n",
              "      <td>7.0</td>\n",
              "      <td>6.0</td>\n",
              "      <td>7.60</td>\n",
              "      <td>APROVADO</td>\n",
              "    </tr>\n",
              "    <tr>\n",
              "      <th>24</th>\n",
              "      <td>Administração</td>\n",
              "      <td>Bianca</td>\n",
              "      <td>8.0</td>\n",
              "      <td>0.0</td>\n",
              "      <td>10.0</td>\n",
              "      <td>5.20</td>\n",
              "      <td>SUBSTITUTIVA</td>\n",
              "    </tr>\n",
              "    <tr>\n",
              "      <th>25</th>\n",
              "      <td>Direito</td>\n",
              "      <td>Jonathas</td>\n",
              "      <td>7.0</td>\n",
              "      <td>7.5</td>\n",
              "      <td>9.0</td>\n",
              "      <td>7.60</td>\n",
              "      <td>APROVADO</td>\n",
              "    </tr>\n",
              "    <tr>\n",
              "      <th>26</th>\n",
              "      <td>Economia</td>\n",
              "      <td>Lucas Henrique</td>\n",
              "      <td>2.6</td>\n",
              "      <td>6.0</td>\n",
              "      <td>10.0</td>\n",
              "      <td>5.44</td>\n",
              "      <td>SUBSTITUTIVA</td>\n",
              "    </tr>\n",
              "    <tr>\n",
              "      <th>27</th>\n",
              "      <td>Relações Internacionais</td>\n",
              "      <td>Luiz Pedro</td>\n",
              "      <td>7.5</td>\n",
              "      <td>4.5</td>\n",
              "      <td>9.5</td>\n",
              "      <td>6.70</td>\n",
              "      <td>SUBSTITUTIVA</td>\n",
              "    </tr>\n",
              "    <tr>\n",
              "      <th>28</th>\n",
              "      <td>Relações Internacionais</td>\n",
              "      <td>Joaquim</td>\n",
              "      <td>2.5</td>\n",
              "      <td>3.0</td>\n",
              "      <td>7.0</td>\n",
              "      <td>3.60</td>\n",
              "      <td>SUBSTITUTIVA</td>\n",
              "    </tr>\n",
              "    <tr>\n",
              "      <th>29</th>\n",
              "      <td>Administração</td>\n",
              "      <td>Joao Paulo</td>\n",
              "      <td>5.0</td>\n",
              "      <td>8.0</td>\n",
              "      <td>6.0</td>\n",
              "      <td>6.40</td>\n",
              "      <td>SUBSTITUTIVA</td>\n",
              "    </tr>\n",
              "    <tr>\n",
              "      <th>30</th>\n",
              "      <td>Direito</td>\n",
              "      <td>Pedro Manuel</td>\n",
              "      <td>8.5</td>\n",
              "      <td>8.0</td>\n",
              "      <td>7.0</td>\n",
              "      <td>8.00</td>\n",
              "      <td>APROVADO</td>\n",
              "    </tr>\n",
              "    <tr>\n",
              "      <th>31</th>\n",
              "      <td>Economia</td>\n",
              "      <td>Ana Luiza</td>\n",
              "      <td>3.5</td>\n",
              "      <td>4.5</td>\n",
              "      <td>8.0</td>\n",
              "      <td>4.80</td>\n",
              "      <td>SUBSTITUTIVA</td>\n",
              "    </tr>\n",
              "    <tr>\n",
              "      <th>32</th>\n",
              "      <td>Relações Internacionais</td>\n",
              "      <td>Felipe</td>\n",
              "      <td>10.0</td>\n",
              "      <td>6.0</td>\n",
              "      <td>9.0</td>\n",
              "      <td>8.20</td>\n",
              "      <td>APROVADO</td>\n",
              "    </tr>\n",
              "    <tr>\n",
              "      <th>33</th>\n",
              "      <td>Economia</td>\n",
              "      <td>Maria José</td>\n",
              "      <td>6.9</td>\n",
              "      <td>8.8</td>\n",
              "      <td>9.2</td>\n",
              "      <td>8.12</td>\n",
              "      <td>APROVADO</td>\n",
              "    </tr>\n",
              "    <tr>\n",
              "      <th>34</th>\n",
              "      <td>Economia</td>\n",
              "      <td>Priscilla</td>\n",
              "      <td>8.8</td>\n",
              "      <td>6.0</td>\n",
              "      <td>4.0</td>\n",
              "      <td>6.72</td>\n",
              "      <td>SUBSTITUTIVA</td>\n",
              "    </tr>\n",
              "    <tr>\n",
              "      <th>35</th>\n",
              "      <td>Relações Internacionais</td>\n",
              "      <td>Marcos</td>\n",
              "      <td>5.5</td>\n",
              "      <td>5.0</td>\n",
              "      <td>9.5</td>\n",
              "      <td>6.10</td>\n",
              "      <td>SUBSTITUTIVA</td>\n",
              "    </tr>\n",
              "    <tr>\n",
              "      <th>36</th>\n",
              "      <td>Administração</td>\n",
              "      <td>João Pedro</td>\n",
              "      <td>5.9</td>\n",
              "      <td>4.0</td>\n",
              "      <td>5.3</td>\n",
              "      <td>5.02</td>\n",
              "      <td>SUBSTITUTIVA</td>\n",
              "    </tr>\n",
              "    <tr>\n",
              "      <th>37</th>\n",
              "      <td>Administração</td>\n",
              "      <td>Bruna</td>\n",
              "      <td>2.6</td>\n",
              "      <td>3.0</td>\n",
              "      <td>7.5</td>\n",
              "      <td>3.74</td>\n",
              "      <td>SUBSTITUTIVA</td>\n",
              "    </tr>\n",
              "    <tr>\n",
              "      <th>38</th>\n",
              "      <td>Administração</td>\n",
              "      <td>Renato</td>\n",
              "      <td>9.0</td>\n",
              "      <td>9.0</td>\n",
              "      <td>8.4</td>\n",
              "      <td>8.88</td>\n",
              "      <td>APROVADO</td>\n",
              "    </tr>\n",
              "    <tr>\n",
              "      <th>39</th>\n",
              "      <td>Direito</td>\n",
              "      <td>Raisa</td>\n",
              "      <td>4.0</td>\n",
              "      <td>7.0</td>\n",
              "      <td>9.8</td>\n",
              "      <td>6.36</td>\n",
              "      <td>SUBSTITUTIVA</td>\n",
              "    </tr>\n",
              "    <tr>\n",
              "      <th>40</th>\n",
              "      <td>Economia</td>\n",
              "      <td>Gabriela</td>\n",
              "      <td>9.0</td>\n",
              "      <td>4.0</td>\n",
              "      <td>9.0</td>\n",
              "      <td>7.00</td>\n",
              "      <td>APROVADO</td>\n",
              "    </tr>\n",
              "  </tbody>\n",
              "</table>\n",
              "</div>\n",
              "      <button class=\"colab-df-convert\" onclick=\"convertToInteractive('df-4e4465b5-acf1-4dd2-a600-0ffc32a7f22f')\"\n",
              "              title=\"Convert this dataframe to an interactive table.\"\n",
              "              style=\"display:none;\">\n",
              "        \n",
              "  <svg xmlns=\"http://www.w3.org/2000/svg\" height=\"24px\"viewBox=\"0 0 24 24\"\n",
              "       width=\"24px\">\n",
              "    <path d=\"M0 0h24v24H0V0z\" fill=\"none\"/>\n",
              "    <path d=\"M18.56 5.44l.94 2.06.94-2.06 2.06-.94-2.06-.94-.94-2.06-.94 2.06-2.06.94zm-11 1L8.5 8.5l.94-2.06 2.06-.94-2.06-.94L8.5 2.5l-.94 2.06-2.06.94zm10 10l.94 2.06.94-2.06 2.06-.94-2.06-.94-.94-2.06-.94 2.06-2.06.94z\"/><path d=\"M17.41 7.96l-1.37-1.37c-.4-.4-.92-.59-1.43-.59-.52 0-1.04.2-1.43.59L10.3 9.45l-7.72 7.72c-.78.78-.78 2.05 0 2.83L4 21.41c.39.39.9.59 1.41.59.51 0 1.02-.2 1.41-.59l7.78-7.78 2.81-2.81c.8-.78.8-2.07 0-2.86zM5.41 20L4 18.59l7.72-7.72 1.47 1.35L5.41 20z\"/>\n",
              "  </svg>\n",
              "      </button>\n",
              "      \n",
              "  <style>\n",
              "    .colab-df-container {\n",
              "      display:flex;\n",
              "      flex-wrap:wrap;\n",
              "      gap: 12px;\n",
              "    }\n",
              "\n",
              "    .colab-df-convert {\n",
              "      background-color: #E8F0FE;\n",
              "      border: none;\n",
              "      border-radius: 50%;\n",
              "      cursor: pointer;\n",
              "      display: none;\n",
              "      fill: #1967D2;\n",
              "      height: 32px;\n",
              "      padding: 0 0 0 0;\n",
              "      width: 32px;\n",
              "    }\n",
              "\n",
              "    .colab-df-convert:hover {\n",
              "      background-color: #E2EBFA;\n",
              "      box-shadow: 0px 1px 2px rgba(60, 64, 67, 0.3), 0px 1px 3px 1px rgba(60, 64, 67, 0.15);\n",
              "      fill: #174EA6;\n",
              "    }\n",
              "\n",
              "    [theme=dark] .colab-df-convert {\n",
              "      background-color: #3B4455;\n",
              "      fill: #D2E3FC;\n",
              "    }\n",
              "\n",
              "    [theme=dark] .colab-df-convert:hover {\n",
              "      background-color: #434B5C;\n",
              "      box-shadow: 0px 1px 3px 1px rgba(0, 0, 0, 0.15);\n",
              "      filter: drop-shadow(0px 1px 2px rgba(0, 0, 0, 0.3));\n",
              "      fill: #FFFFFF;\n",
              "    }\n",
              "  </style>\n",
              "\n",
              "      <script>\n",
              "        const buttonEl =\n",
              "          document.querySelector('#df-4e4465b5-acf1-4dd2-a600-0ffc32a7f22f button.colab-df-convert');\n",
              "        buttonEl.style.display =\n",
              "          google.colab.kernel.accessAllowed ? 'block' : 'none';\n",
              "\n",
              "        async function convertToInteractive(key) {\n",
              "          const element = document.querySelector('#df-4e4465b5-acf1-4dd2-a600-0ffc32a7f22f');\n",
              "          const dataTable =\n",
              "            await google.colab.kernel.invokeFunction('convertToInteractive',\n",
              "                                                     [key], {});\n",
              "          if (!dataTable) return;\n",
              "\n",
              "          const docLinkHtml = 'Like what you see? Visit the ' +\n",
              "            '<a target=\"_blank\" href=https://colab.research.google.com/notebooks/data_table.ipynb>data table notebook</a>'\n",
              "            + ' to learn more about interactive tables.';\n",
              "          element.innerHTML = '';\n",
              "          dataTable['output_type'] = 'display_data';\n",
              "          await google.colab.output.renderOutput(dataTable, element);\n",
              "          const docLink = document.createElement('div');\n",
              "          docLink.innerHTML = docLinkHtml;\n",
              "          element.appendChild(docLink);\n",
              "        }\n",
              "      </script>\n",
              "    </div>\n",
              "  </div>\n",
              "  "
            ]
          },
          "metadata": {},
          "execution_count": 161
        }
      ]
    }
  ]
}